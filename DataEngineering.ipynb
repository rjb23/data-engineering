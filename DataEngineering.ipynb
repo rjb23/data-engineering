{
 "cells": [
  {
   "cell_type": "markdown",
   "id": "f120c232",
   "metadata": {},
   "source": [
    "# Reading and Writing Data\n",
    "#### These are just some examples of Python code for Data Engineering. There are many more techniques and libraries that can be used depending on the specific data engineering task at hand.\n",
    "Reading from CSV file"
   ]
  },
  {
   "cell_type": "code",
   "execution_count": null,
   "id": "6828965d",
   "metadata": {},
   "outputs": [],
   "source": [
    "import pandas as pd\n",
    "\n",
    "df = pd.read_csv('input_data.csv')\n"
   ]
  },
  {
   "cell_type": "markdown",
   "id": "f3afac93",
   "metadata": {},
   "source": [
    "Writing to CSV file"
   ]
  },
  {
   "cell_type": "code",
   "execution_count": null,
   "id": "0458a66d",
   "metadata": {},
   "outputs": [],
   "source": [
    "df.to_csv('output_data.csv', index=False)\n"
   ]
  },
  {
   "cell_type": "markdown",
   "id": "2df0761f",
   "metadata": {},
   "source": [
    "# Data Cleaning\n",
    "Removing Duplicate Rows"
   ]
  },
  {
   "cell_type": "code",
   "execution_count": null,
   "id": "0d246170",
   "metadata": {},
   "outputs": [],
   "source": [
    "df = df.drop_duplicates()\n"
   ]
  },
  {
   "cell_type": "markdown",
   "id": "9a582cff",
   "metadata": {},
   "source": [
    "Renaming Columns"
   ]
  },
  {
   "cell_type": "code",
   "execution_count": null,
   "id": "38d6a9ec",
   "metadata": {},
   "outputs": [],
   "source": [
    "df = df.rename(columns={'old_column_name': 'new_column_name'})\n"
   ]
  },
  {
   "cell_type": "markdown",
   "id": "79b2b050",
   "metadata": {},
   "source": [
    "Filling Missing Values"
   ]
  },
  {
   "cell_type": "code",
   "execution_count": null,
   "id": "12abc355",
   "metadata": {},
   "outputs": [],
   "source": [
    "df = df.fillna(0)\n"
   ]
  },
  {
   "cell_type": "markdown",
   "id": "b1ff41fd",
   "metadata": {},
   "source": [
    "# Data Transformation\n",
    "Applying a Function to a Column"
   ]
  },
  {
   "cell_type": "code",
   "execution_count": null,
   "id": "80734b26",
   "metadata": {},
   "outputs": [],
   "source": [
    "def square(x):\n",
    "    return x**2\n",
    "\n",
    "df['new_column'] = df['old_column'].apply(square)\n"
   ]
  },
  {
   "cell_type": "markdown",
   "id": "7d5c3edd",
   "metadata": {},
   "source": [
    "Filtering Rows Based on a Condition"
   ]
  },
  {
   "cell_type": "code",
   "execution_count": null,
   "id": "0b7eab8e",
   "metadata": {},
   "outputs": [],
   "source": [
    "df = df[df['column_name'] > 10]\n"
   ]
  },
  {
   "cell_type": "markdown",
   "id": "c7c33742",
   "metadata": {},
   "source": [
    "Grouping Data and Aggregating"
   ]
  },
  {
   "cell_type": "code",
   "execution_count": null,
   "id": "2a41584a",
   "metadata": {},
   "outputs": [],
   "source": [
    "df_grouped = df.groupby(['column_name']).agg({'other_column': 'sum', 'another_column': 'mean'})\n"
   ]
  },
  {
   "cell_type": "markdown",
   "id": "9f1cf58f",
   "metadata": {},
   "source": [
    "# Data Integration\n",
    "Merging DataFrames\n"
   ]
  },
  {
   "cell_type": "code",
   "execution_count": null,
   "id": "9967805b",
   "metadata": {},
   "outputs": [],
   "source": [
    "df_merged = pd.merge(df1, df2, on='column_name')\n"
   ]
  },
  {
   "cell_type": "markdown",
   "id": "e951eadc",
   "metadata": {},
   "source": [
    "Concatenating DataFrames"
   ]
  },
  {
   "cell_type": "code",
   "execution_count": null,
   "id": "c23b5c59",
   "metadata": {},
   "outputs": [],
   "source": [
    "df_concatenated = pd.concat([df1, df2])\n"
   ]
  },
  {
   "cell_type": "markdown",
   "id": "4022c103",
   "metadata": {},
   "source": [
    "# Working with Databases\n",
    "Connecting to a Database\n"
   ]
  },
  {
   "cell_type": "code",
   "execution_count": null,
   "id": "ea33d9a2",
   "metadata": {},
   "outputs": [],
   "source": [
    "import psycopg2\n",
    "\n",
    "conn = psycopg2.connect(\n",
    "    host=\"localhost\",\n",
    "    database=\"my_database\",\n",
    "    user=\"my_username\",\n",
    "    password=\"my_password\"\n",
    ")\n"
   ]
  },
  {
   "cell_type": "markdown",
   "id": "9a79bacc",
   "metadata": {},
   "source": [
    "Querying Data from a Database"
   ]
  },
  {
   "cell_type": "code",
   "execution_count": null,
   "id": "7d03de27",
   "metadata": {},
   "outputs": [],
   "source": [
    "cursor = conn.cursor()\n",
    "cursor.execute(\"SELECT * FROM my_table;\")\n",
    "rows = cursor.fetchall()\n"
   ]
  },
  {
   "cell_type": "markdown",
   "id": "9e7e65b0",
   "metadata": {},
   "source": [
    "Writing Data to a Database\n"
   ]
  },
  {
   "cell_type": "code",
   "execution_count": null,
   "id": "74d45efc",
   "metadata": {},
   "outputs": [],
   "source": [
    "for row in df.itertuples():\n",
    "    cursor.execute(\"INSERT INTO my_table (column1, column2, column3) VALUES (%s, %s, %s);\", (row.column1, row.column2, row.column3))\n",
    "conn.commit()\n"
   ]
  },
  {
   "cell_type": "code",
   "execution_count": null,
   "id": "16786bff",
   "metadata": {},
   "outputs": [],
   "source": []
  }
 ],
 "metadata": {
  "kernelspec": {
   "display_name": "Python 3 (ipykernel)",
   "language": "python",
   "name": "python3"
  },
  "language_info": {
   "codemirror_mode": {
    "name": "ipython",
    "version": 3
   },
   "file_extension": ".py",
   "mimetype": "text/x-python",
   "name": "python",
   "nbconvert_exporter": "python",
   "pygments_lexer": "ipython3",
   "version": "3.9.7"
  }
 },
 "nbformat": 4,
 "nbformat_minor": 5
}
